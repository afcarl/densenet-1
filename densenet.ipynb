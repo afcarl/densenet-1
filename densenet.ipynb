{
 "cells": [
  {
   "cell_type": "code",
   "execution_count": 8,
   "metadata": {},
   "outputs": [],
   "source": [
    "from mnist import MNIST\n",
    "import numpy as np\n",
    "import random\n",
    "from matplotlib import pyplot as plt\n",
    "\n",
    "mndata = MNIST('/home/nbuser/python-mnist/data')\n",
    "all_raw_images, all_labels = mndata.load_training()\n",
    "\n",
    "all_raw_images = np.asarray(all_raw_images)\n",
    "all_labels = np.asarray(all_labels)"
   ]
  },
  {
   "cell_type": "code",
   "execution_count": 9,
   "metadata": {
    "collapsed": true
   },
   "outputs": [],
   "source": [
    "def whiten(images):\n",
    "    out = (np.asarray(images)) / np.std(images)\n",
    "    out = out - np.mean(out)\n",
    "    return out\n",
    "    \n",
    "images = whiten(all_raw_images)[:50000]\n",
    "labels = all_labels[:50000]\n",
    "\n",
    "val_images = whiten(all_raw_images)[50000:]\n",
    "val_labels = all_labels[50000:]\n",
    "\n",
    "all_raw_test_images, test_labels = mndata.load_testing()\n",
    "test_images = whiten(all_raw_test_images)\n",
    "test_labels = np.asarray(test_labels)"
   ]
  },
  {
   "cell_type": "code",
   "execution_count": 12,
   "metadata": {},
   "outputs": [
    {
     "name": "stdout",
     "output_type": "stream",
     "text": [
      "Raw\n",
      "33.3184214498\n",
      "6172.85048229\n",
      "Whitened\n",
      "0.000976324968854\n",
      "1.00251425221\n"
     ]
    },
    {
     "data": {
      "image/png": "[encoded data removed]",
      "text/plain": [
       "<matplotlib.figure.Figure at 0x7f1e3834bda0>"
      ]
     },
     "metadata": {},
     "output_type": "display_data"
    },
    {
     "name": "stdout",
     "output_type": "stream",
     "text": [
      "50000\n"
     ]
    }
   ],
   "source": [
    "print(\"Raw\")\n",
    "print(np.mean(all_raw_images))\n",
    "print(np.var(all_raw_images))\n",
    "\n",
    "print(\"Whitened\")\n",
    "print(np.mean(images))\n",
    "print(np.var(images))\n",
    "\n",
    "\n",
    "def show_images(images):\n",
    "    n = len(images)\n",
    "    fig, axarr = plt.subplots(1, n)\n",
    "\n",
    "    for i in range(n):\n",
    "        im = images[i]\n",
    "        im = np.asarray(im)\n",
    "\n",
    "        im = im.reshape([28,28])\n",
    "        axarr[i].imshow(im, cmap='gray')\n",
    "\n",
    "    plt.show()\n",
    "    \n",
    "show_images(images[:2])\n",
    "print(len(images))"
   ]
  },
  {
   "cell_type": "code",
   "execution_count": 14,
   "metadata": {},
   "outputs": [
    {
     "name": "stdout",
     "output_type": "stream",
     "text": [
      "Whitened Test\n",
      "-1.77187063208e-16\n",
      "1.0\n"
     ]
    },
    {
     "data": {
      "image/png": "[encoded data removed]",
      "text/plain": [
       "<matplotlib.figure.Figure at 0x7f1e093af2e8>"
      ]
     },
     "metadata": {},
     "output_type": "display_data"
    },
    {
     "name": "stdout",
     "output_type": "stream",
     "text": [
      "10000\n"
     ]
    }
   ],
   "source": [
    "print(\"Whitened Test\")\n",
    "print(np.mean(test_images))\n",
    "print(np.var(test_images))\n",
    "\n",
    "show_images(test_images[:2])\n",
    "print(len(test_images))"
   ]
  },
  {
   "cell_type": "code",
   "execution_count": 15,
   "metadata": {},
   "outputs": [
    {
     "name": "stdout",
     "output_type": "stream",
     "text": [
      "1.1.0\n"
     ]
    }
   ],
   "source": [
    "import tensorflow as tf\n",
    "print(tf.__version__)"
   ]
  },
  {
   "cell_type": "code",
   "execution_count": 16,
   "metadata": {},
   "outputs": [
    {
     "name": "stdout",
     "output_type": "stream",
     "text": [
      "['/gpu:0']\n"
     ]
    }
   ],
   "source": [
    "from tensorflow.python.client import device_lib\n",
    "\n",
    "def get_available_gpus():\n",
    "    local_device_protos = device_lib.list_local_devices()\n",
    "    return [x.name for x in local_device_protos if x.device_type == 'GPU']\n",
    "\n",
    "print(get_available_gpus())"
   ]
  },
  {
   "cell_type": "code",
   "execution_count": 17,
   "metadata": {
    "collapsed": true
   },
   "outputs": [],
   "source": [
    "# b = tf.random_normal([20000])\n",
    "# ary = b.eval()\n",
    "# plt.hist(ary, 50)\n",
    "# plt.show()\n",
    "# print(ary.mean())\n",
    "# print(ary.std())"
   ]
  },
  {
   "cell_type": "code",
   "execution_count": 18,
   "metadata": {
    "scrolled": false
   },
   "outputs": [],
   "source": [
    "# Test that we're using the GPU\n",
    "shape = (1500, 1500)\n",
    "from datetime import datetime\n",
    "with tf.device('/gpu:0'):\n",
    "    random_matrix = tf.random_uniform(shape=shape, minval=0, maxval=1)\n",
    "    dot_operation = tf.matmul(random_matrix, tf.transpose(random_matrix))\n",
    "    sum_operation = tf.reduce_sum(dot_operation)\n",
    "\n",
    "with tf.Session(config=tf.ConfigProto(log_device_placement=True)) as session:\n",
    "    for i in range(200):\n",
    "        result = session.run(sum_operation)\n",
    "#         print(result)"
   ]
  },
  {
   "cell_type": "code",
   "execution_count": 71,
   "metadata": {
    "scrolled": true
   },
   "outputs": [],
   "source": [
    "# Set the seed for determinism\n",
    "tf.reset_default_graph()\n",
    "tf.set_random_seed(1)\n",
    "\n",
    "# Build our models\n",
    "input_size = 28*28\n",
    "output_size = 10\n",
    "batch_size = 50 # To use GPU correctly\n",
    "hidden_size = 128*2\n",
    "\n",
    "\n",
    "with tf.device('/gpu:0'):\n",
    "    x = tf.placeholder(tf.float32, shape=(None, input_size))\n",
    "    y_train = tf.placeholder(tf.int32, shape=(batch_size))\n",
    "\n",
    "    W1 = tf.Variable(tf.truncated_normal([input_size, hidden_size], stddev=0.1), name='W1')\n",
    "    b1 = tf.Variable(tf.constant(0.1, shape=[hidden_size]))\n",
    "    h1 = tf.nn.relu(tf.matmul(x, W1) + b1)\n",
    "\n",
    "    W2 = tf.Variable(0.01 * tf.truncated_normal([hidden_size, output_size], stddev=0.1), name='W2')\n",
    "    b2 = tf.Variable(tf.constant(0.1, shape=[output_size]))\n",
    "    logits = tf.matmul(h1, W2) + b2\n",
    "\n",
    "    cross_entropy = tf.nn.sparse_softmax_cross_entropy_with_logits(labels=y_train, logits=logits)\n",
    "    loss = tf.reduce_mean(cross_entropy)\n",
    "    \n",
    "    # Optimizers\n",
    "    optimizer = tf.train.AdamOptimizer(learning_rate=0.005)\n",
    "    # global_step = tf.Variable(0, trainable=False, name=\"global_step\")\n",
    "    # train_op = optimizer.minimize(loss, global_step=global_step)\n",
    "    train_op = optimizer.minimize(loss)\n",
    "\n",
    "    \n",
    "sess = tf.InteractiveSession()"
   ]
  },
  {
   "cell_type": "code",
   "execution_count": 72,
   "metadata": {
    "scrolled": false
   },
   "outputs": [],
   "source": [
    "def check_accuracy(test_ims, test_ys):\n",
    "    logits_out = sess.run(logits, feed_dict={\n",
    "        x: test_ims,\n",
    "    })\n",
    "\n",
    "    y_pred = np.argmax(logits_out, 1)\n",
    "    correct = (y_pred - test_ys) == 0\n",
    "    acc = np.sum(correct) / len(test_ys)\n",
    "\n",
    "    message = \"%s correct out of %s => accuracy: %s\" % ( np.sum(correct), len(test_ys), acc)\n",
    "    return acc, message\n",
    "    "
   ]
  },
  {
   "cell_type": "code",
   "execution_count": 73,
   "metadata": {},
   "outputs": [
    {
     "name": "stdout",
     "output_type": "stream",
     "text": [
      "\n",
      "Iteration: 0 loss: 2.30496\n",
      "1598 correct out of 10000 => accuracy: 0.1598\n",
      "\n",
      "Iteration: 1000 loss: 0.292962\n",
      "9133 correct out of 10000 => accuracy: 0.9133\n",
      "\n",
      "Iteration: 2000 loss: 0.327214\n",
      "9307 correct out of 10000 => accuracy: 0.9307\n",
      "\n",
      "Iteration: 3000 loss: 0.145189\n",
      "9411 correct out of 10000 => accuracy: 0.9411\n",
      "\n",
      "Iteration: 4000 loss: 0.186563\n",
      "9496 correct out of 10000 => accuracy: 0.9496\n",
      "\n",
      "Iteration: 5000 loss: 0.102935\n",
      "9554 correct out of 10000 => accuracy: 0.9554\n",
      "\n",
      "Iteration: 6000 loss: 0.167529\n",
      "9611 correct out of 10000 => accuracy: 0.9611\n",
      "\n",
      "Iteration: 7000 loss: 0.0816247\n",
      "9633 correct out of 10000 => accuracy: 0.9633\n",
      "\n",
      "Iteration: 8000 loss: 0.147931\n",
      "9670 correct out of 10000 => accuracy: 0.967\n",
      "\n",
      "Iteration: 9000 loss: 0.125996\n",
      "9694 correct out of 10000 => accuracy: 0.9694\n",
      "\n",
      "Iteration: 10000 loss: 0.062319\n",
      "9704 correct out of 10000 => accuracy: 0.9704\n",
      "\n",
      "Iteration: 11000 loss: 0.0429517\n",
      "9706 correct out of 10000 => accuracy: 0.9706\n",
      "\n",
      "Iteration: 12000 loss: 0.0602171\n",
      "9733 correct out of 10000 => accuracy: 0.9733\n",
      "\n",
      "Iteration: 13000 loss: 0.149945\n",
      "9740 correct out of 10000 => accuracy: 0.974\n",
      "\n",
      "Iteration: 14000 loss: 0.022426\n",
      "9742 correct out of 10000 => accuracy: 0.9742\n",
      "\n",
      "Iteration: 15000 loss: 0.091687\n",
      "9741 correct out of 10000 => accuracy: 0.9741\n",
      "\n",
      "Iteration: 16000 loss: 0.0384969\n",
      "9755 correct out of 10000 => accuracy: 0.9755\n",
      "\n",
      "Iteration: 17000 loss: 0.0106489\n",
      "9763 correct out of 10000 => accuracy: 0.9763\n",
      "\n",
      "Iteration: 18000 loss: 0.0209715\n",
      "9771 correct out of 10000 => accuracy: 0.9771\n",
      "\n",
      "Iteration: 19000 loss: 0.0199757\n",
      "9764 correct out of 10000 => accuracy: 0.9764\n",
      "\n",
      "Iteration: 20000 loss: 0.0253607\n",
      "9782 correct out of 10000 => accuracy: 0.9782\n"
     ]
    }
   ],
   "source": [
    "report = {\n",
    "    'loss': [],\n",
    "    'val_acc': [],\n",
    "}\n",
    "\n",
    "def sample(images, labels, n=50):\n",
    "    sample_indices = random.sample(range(len(images)), 50)\n",
    "    return images[sample_indices], labels[sample_indices]\n",
    "\n",
    "n_epochs = 20\n",
    "\n",
    "# Clear out the session\n",
    "sess.run(tf.global_variables_initializer())\n",
    "for i in range(n_epochs*1000+1):\n",
    "    # Train with a minibatch\n",
    "\n",
    "    train_ims, train_labels = sample(images, labels)\n",
    "        \n",
    "    _, l = sess.run([train_op, loss], feed_dict={\n",
    "        x: train_ims,\n",
    "        y_train: train_labels,\n",
    "    })\n",
    "\n",
    "    if i % 100 == 0:\n",
    "        report['loss'].append(l)\n",
    "        acc, acc_msg = check_accuracy(val_images, val_labels)\n",
    "        report['val_acc'].append(acc)\n",
    "        \n",
    "        \n",
    "    if i % 1000 == 0:\n",
    "        print(\"\\nIteration: %s loss: %s\" % (i, l))\n",
    "        print(acc_msg)\n",
    "        \n",
    "        \n",
    "        "
   ]
  },
  {
   "cell_type": "code",
   "execution_count": 74,
   "metadata": {},
   "outputs": [
    {
     "data": {
      "image/png": "[encoded data removed]",
      "text/plain": [
       "<matplotlib.figure.Figure at 0x7f1e381000f0>"
      ]
     },
     "metadata": {},
     "output_type": "display_data"
    },
    {
     "data": {
      "image/png": "[encoded data removed]",
      "text/plain": [
       "<matplotlib.figure.Figure at 0x7f1e37fae208>"
      ]
     },
     "metadata": {},
     "output_type": "display_data"
    },
    {
     "data": {
      "text/plain": [
       "(0.97629999999999995, '9763 correct out of 10000 => accuracy: 0.9763')"
      ]
     },
     "execution_count": 74,
     "metadata": {},
     "output_type": "execute_result"
    }
   ],
   "source": [
    "plt.plot(np.log(report['loss']))\n",
    "plt.show()\n",
    "\n",
    "plt.plot(report['val_acc'])\n",
    "plt.show()\n",
    "\n",
    "\n",
    "check_accuracy( test_images, test_labels)"
   ]
  },
  {
   "cell_type": "code",
   "execution_count": null,
   "metadata": {
    "collapsed": true
   },
   "outputs": [],
   "source": []
  },
  {
   "cell_type": "code",
   "execution_count": null,
   "metadata": {
    "collapsed": true
   },
   "outputs": [],
   "source": []
  },
  {
   "cell_type": "code",
   "execution_count": null,
   "metadata": {
    "collapsed": true
   },
   "outputs": [],
   "source": []
  },
  {
   "cell_type": "code",
   "execution_count": null,
   "metadata": {
    "collapsed": true
   },
   "outputs": [],
   "source": []
  },
  {
   "cell_type": "code",
   "execution_count": null,
   "metadata": {
    "collapsed": true
   },
   "outputs": [],
   "source": []
  },
  {
   "cell_type": "code",
   "execution_count": null,
   "metadata": {
    "collapsed": true
   },
   "outputs": [],
   "source": []
  },
  {
   "cell_type": "code",
   "execution_count": null,
   "metadata": {
    "collapsed": true
   },
   "outputs": [],
   "source": []
  }
 ],
 "metadata": {
  "kernelspec": {
   "display_name": "Python 3",
   "language": "python",
   "name": "python3"
  }
 },
 "nbformat": 4,
 "nbformat_minor": 2
}
