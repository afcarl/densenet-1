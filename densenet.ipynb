{
 "cells": [
  {
   "cell_type": "code",
   "execution_count": 1,
   "metadata": {
    "collapsed": true
   },
   "outputs": [],
   "source": [
    "from mnist import MNIST\n",
    "import numpy as np\n",
    "import random\n",
    "from matplotlib import pyplot as plt\n",
    "from IPython.core.debugger import Tracer\n",
    "\n",
    "\n",
    "mndata = MNIST('/home/nbuser/python-mnist/data')\n",
    "all_raw_images, all_labels = mndata.load_training()\n",
    "\n",
    "all_raw_images = np.asarray(all_raw_images)\n",
    "all_labels = np.asarray(all_labels)"
   ]
  },
  {
   "cell_type": "code",
   "execution_count": 2,
   "metadata": {},
   "outputs": [],
   "source": [
    "def whiten(images):\n",
    "    out = (np.asarray(images)) / np.std(images)\n",
    "    out = out - np.mean(out)\n",
    "    return out\n",
    "    \n",
    "images = whiten(all_raw_images)[:50000]\n",
    "labels = all_labels[:50000]\n",
    "\n",
    "val_images = whiten(all_raw_images)[50000:]\n",
    "val_labels = all_labels[50000:]\n",
    "\n",
    "all_raw_test_images, test_labels = mndata.load_testing()\n",
    "test_images = whiten(all_raw_test_images)\n",
    "test_labels = np.asarray(test_labels)"
   ]
  },
  {
   "cell_type": "code",
   "execution_count": 3,
   "metadata": {},
   "outputs": [
    {
     "name": "stdout",
     "output_type": "stream",
     "text": [
      "Raw\n",
      "33.3184214498\n",
      "6172.85048229\n",
      "Whitened\n",
      "0.000976324968854\n",
      "1.00251425221\n"
     ]
    },
    {
     "data": {
      "image/png": "[encoded data removed]",
      "text/plain": [
       "<matplotlib.figure.Figure at 0x7f4cc871ea90>"
      ]
     },
     "metadata": {},
     "output_type": "display_data"
    },
    {
     "name": "stdout",
     "output_type": "stream",
     "text": [
      "50000\n"
     ]
    }
   ],
   "source": [
    "print(\"Raw\")\n",
    "print(np.mean(all_raw_images))\n",
    "print(np.var(all_raw_images))\n",
    "\n",
    "print(\"Whitened\")\n",
    "print(np.mean(images))\n",
    "print(np.var(images))\n",
    "\n",
    "\n",
    "def show_images(images):\n",
    "    n = len(images)\n",
    "    fig, axarr = plt.subplots(1, n)\n",
    "\n",
    "    for i in range(n):\n",
    "        im = images[i]\n",
    "        im = np.asarray(im)\n",
    "\n",
    "        im = im.reshape([28,28])\n",
    "        axarr[i].imshow(im, cmap='gray')\n",
    "\n",
    "    plt.show()\n",
    "    \n",
    "show_images(images[:2])\n",
    "print(len(images))"
   ]
  },
  {
   "cell_type": "code",
   "execution_count": 4,
   "metadata": {},
   "outputs": [
    {
     "name": "stdout",
     "output_type": "stream",
     "text": [
      "Whitened Test\n",
      "-1.77187063208e-16\n",
      "1.0\n"
     ]
    },
    {
     "data": {
      "image/png": "[encoded data removed]",
      "text/plain": [
       "<matplotlib.figure.Figure at 0x7f4ccc1cef28>"
      ]
     },
     "metadata": {},
     "output_type": "display_data"
    },
    {
     "name": "stdout",
     "output_type": "stream",
     "text": [
      "10000\n"
     ]
    }
   ],
   "source": [
    "print(\"Whitened Test\")\n",
    "print(np.mean(test_images))\n",
    "print(np.var(test_images))\n",
    "\n",
    "show_images(test_images[:2])\n",
    "print(len(test_images))"
   ]
  },
  {
   "cell_type": "code",
   "execution_count": 5,
   "metadata": {},
   "outputs": [
    {
     "name": "stdout",
     "output_type": "stream",
     "text": [
      "1.1.0\n"
     ]
    }
   ],
   "source": [
    "import tensorflow as tf\n",
    "print(tf.__version__)"
   ]
  },
  {
   "cell_type": "code",
   "execution_count": 6,
   "metadata": {},
   "outputs": [
    {
     "name": "stdout",
     "output_type": "stream",
     "text": [
      "['/gpu:0']\n"
     ]
    }
   ],
   "source": [
    "from tensorflow.python.client import device_lib\n",
    "\n",
    "def get_available_gpus():\n",
    "    local_device_protos = device_lib.list_local_devices()\n",
    "    return [x.name for x in local_device_protos if x.device_type == 'GPU']\n",
    "\n",
    "print(get_available_gpus())"
   ]
  },
  {
   "cell_type": "code",
   "execution_count": 7,
   "metadata": {
    "collapsed": true
   },
   "outputs": [],
   "source": [
    "# b = tf.random_normal([20000])\n",
    "# ary = b.eval()\n",
    "# plt.hist(ary, 50)\n",
    "# plt.show()\n",
    "# print(ary.mean())\n",
    "# print(ary.std())"
   ]
  },
  {
   "cell_type": "code",
   "execution_count": 8,
   "metadata": {
    "scrolled": true
   },
   "outputs": [
    {
     "name": "stdout",
     "output_type": "stream",
     "text": [
      "8.43311e+08\n",
      "8.44051e+08\n",
      "8.43281e+08\n",
      "8.4482e+08\n",
      "8.43929e+08\n",
      "8.43071e+08\n",
      "8.44321e+08\n",
      "8.42013e+08\n",
      "8.41889e+08\n",
      "8.43841e+08\n",
      "8.44286e+08\n",
      "8.43767e+08\n",
      "8.44126e+08\n",
      "8.44304e+08\n",
      "8.4424e+08\n",
      "8.44471e+08\n",
      "8.44111e+08\n",
      "8.44314e+08\n",
      "8.43657e+08\n",
      "8.43532e+08\n",
      "8.43901e+08\n",
      "8.44104e+08\n",
      "8.4389e+08\n",
      "8.43493e+08\n",
      "8.44318e+08\n",
      "8.43069e+08\n",
      "8.42836e+08\n",
      "8.4438e+08\n",
      "8.43335e+08\n",
      "8.45654e+08\n",
      "8.43995e+08\n",
      "8.43751e+08\n",
      "8.43938e+08\n",
      "8.42984e+08\n",
      "8.43615e+08\n",
      "8.44177e+08\n",
      "8.43717e+08\n",
      "8.44172e+08\n",
      "8.4423e+08\n",
      "8.44487e+08\n",
      "8.43551e+08\n",
      "8.43815e+08\n",
      "8.43867e+08\n",
      "8.44922e+08\n",
      "8.43814e+08\n",
      "8.44042e+08\n",
      "8.43832e+08\n",
      "8.43592e+08\n",
      "8.4387e+08\n",
      "8.43574e+08\n",
      "8.44387e+08\n",
      "8.44931e+08\n",
      "8.44287e+08\n",
      "8.441e+08\n",
      "8.44604e+08\n",
      "8.43752e+08\n",
      "8.44616e+08\n",
      "8.4442e+08\n",
      "8.44416e+08\n",
      "8.43737e+08\n",
      "8.44531e+08\n",
      "8.4453e+08\n",
      "8.43917e+08\n",
      "8.43639e+08\n",
      "8.44659e+08\n",
      "8.42934e+08\n",
      "8.44287e+08\n",
      "8.43841e+08\n",
      "8.44488e+08\n",
      "8.44683e+08\n",
      "8.44479e+08\n",
      "8.44613e+08\n",
      "8.44852e+08\n",
      "8.4531e+08\n",
      "8.43392e+08\n",
      "8.42798e+08\n",
      "8.44244e+08\n",
      "8.44654e+08\n",
      "8.43464e+08\n",
      "8.44203e+08\n",
      "8.44365e+08\n",
      "8.45233e+08\n",
      "8.43664e+08\n",
      "8.44962e+08\n",
      "8.43552e+08\n",
      "8.45027e+08\n",
      "8.43422e+08\n",
      "8.44434e+08\n",
      "8.45312e+08\n",
      "8.44813e+08\n",
      "8.44063e+08\n",
      "8.43807e+08\n",
      "8.43619e+08\n",
      "8.44535e+08\n",
      "8.43066e+08\n",
      "8.43551e+08\n",
      "8.43267e+08\n",
      "8.42756e+08\n",
      "8.43941e+08\n",
      "8.44134e+08\n",
      "8.44936e+08\n",
      "8.44172e+08\n",
      "8.44225e+08\n",
      "8.43747e+08\n",
      "8.43721e+08\n",
      "8.44107e+08\n",
      "8.42322e+08\n",
      "8.44417e+08\n",
      "8.43972e+08\n",
      "8.42748e+08\n",
      "8.42424e+08\n",
      "8.43008e+08\n",
      "8.43841e+08\n",
      "8.4474e+08\n",
      "8.44599e+08\n",
      "8.44291e+08\n",
      "8.44735e+08\n",
      "8.43969e+08\n",
      "8.4317e+08\n",
      "8.44143e+08\n",
      "8.43925e+08\n",
      "8.42353e+08\n",
      "8.4406e+08\n",
      "8.43813e+08\n",
      "8.43242e+08\n",
      "8.43618e+08\n",
      "8.4266e+08\n",
      "8.43805e+08\n",
      "8.43497e+08\n",
      "8.42989e+08\n",
      "8.43337e+08\n",
      "8.43309e+08\n",
      "8.43465e+08\n",
      "8.44651e+08\n",
      "8.42484e+08\n",
      "8.44158e+08\n",
      "8.44128e+08\n",
      "8.44166e+08\n",
      "8.43384e+08\n",
      "8.42746e+08\n",
      "8.43869e+08\n",
      "8.44399e+08\n",
      "8.43471e+08\n",
      "8.44619e+08\n",
      "8.44582e+08\n",
      "8.42877e+08\n",
      "8.44262e+08\n",
      "8.43754e+08\n",
      "8.43955e+08\n",
      "8.44598e+08\n",
      "8.43225e+08\n",
      "8.43222e+08\n",
      "8.44018e+08\n",
      "8.43267e+08\n",
      "8.44339e+08\n",
      "8.4275e+08\n",
      "8.44873e+08\n",
      "8.43827e+08\n",
      "8.44192e+08\n",
      "8.44065e+08\n",
      "8.44022e+08\n",
      "8.44728e+08\n",
      "8.43844e+08\n",
      "8.43181e+08\n",
      "8.44881e+08\n",
      "8.43463e+08\n",
      "8.4432e+08\n",
      "8.43811e+08\n",
      "8.43761e+08\n",
      "8.43885e+08\n",
      "8.43736e+08\n",
      "8.44083e+08\n",
      "8.44594e+08\n",
      "8.43847e+08\n",
      "8.45411e+08\n",
      "8.43365e+08\n",
      "8.44815e+08\n",
      "8.44021e+08\n",
      "8.4389e+08\n",
      "8.44655e+08\n",
      "8.43949e+08\n",
      "8.44359e+08\n",
      "8.43832e+08\n",
      "8.43464e+08\n",
      "8.43605e+08\n",
      "8.44158e+08\n",
      "8.43109e+08\n",
      "8.44683e+08\n",
      "8.4293e+08\n",
      "8.44782e+08\n",
      "8.43566e+08\n",
      "8.43791e+08\n",
      "8.43975e+08\n",
      "8.43023e+08\n",
      "8.4378e+08\n",
      "8.4446e+08\n",
      "8.44009e+08\n",
      "8.43704e+08\n",
      "8.43274e+08\n",
      "8.43922e+08\n"
     ]
    }
   ],
   "source": [
    "# Test that we're using the GPU\n",
    "shape = (1500, 1500)\n",
    "from datetime import datetime\n",
    "with tf.device('/gpu:0'):\n",
    "    random_matrix = tf.random_uniform(shape=shape, minval=0, maxval=1)\n",
    "    dot_operation = tf.matmul(random_matrix, tf.transpose(random_matrix))\n",
    "    sum_operation = tf.reduce_sum(dot_operation)\n",
    "\n",
    "with tf.Session(config=tf.ConfigProto(log_device_placement=True)) as session:\n",
    "    for i in range(200):\n",
    "        result = session.run(sum_operation)\n",
    "        print(result)"
   ]
  },
  {
   "cell_type": "code",
   "execution_count": 9,
   "metadata": {
    "collapsed": true,
    "scrolled": true
   },
   "outputs": [],
   "source": [
    "def check_accuracy(test_ims, test_ys):\n",
    "    \n",
    "    total_correct = 0\n",
    "    for i in range(len(test_ims) // batch_size):\n",
    "        logits_out = sess.run(logits, feed_dict={\n",
    "            x: test_ims[i*batch_size:(i+1)*batch_size],\n",
    "        })\n",
    "\n",
    "        y_pred = np.argmax(logits_out, 1)\n",
    "        correct = (y_pred - test_ys[i*batch_size:(i+1)*batch_size]) == 0\n",
    "        total_correct += correct\n",
    "\n",
    "    acc = np.sum(total_correct) / len(test_ys)\n",
    "\n",
    "    message = \"%s correct out of %s => accuracy: %s\" % ( np.sum(total_correct), len(test_ys), acc)\n",
    "    return acc, message"
   ]
  },
  {
   "cell_type": "code",
   "execution_count": 13,
   "metadata": {
    "collapsed": true,
    "scrolled": false
   },
   "outputs": [],
   "source": [
    "# Set the seed for determinism\n",
    "tf.reset_default_graph()\n",
    "tf.set_random_seed(1)\n",
    "\n",
    "# Build our models\n",
    "input_size = 28*28\n",
    "output_size = 10\n",
    "batch_size = 50 # To use GPU correctly\n",
    "\n",
    "def conv2d(x, W):\n",
    "    return tf.nn.conv2d(x, W, strides=[1,1,1,1], padding='SAME')\n",
    "\n",
    "def max_pool_2x2(x):\n",
    "    \"\"\"Use this to halve the size after a conv\"\"\"\n",
    "    return tf.nn.max_pool(x, ksize=[1,2,2,1], strides=[1,2,2,1], padding='SAME')\n",
    "\n",
    "def weight_var(shape):\n",
    "    return tf.Variable(tf.truncated_normal(shape, stddev=0.1))\n",
    "\n",
    "def bias_var(shape):\n",
    "    return tf.Variable(tf.constant(0.1, shape=shape))\n",
    "\n",
    "with tf.device('/gpu:0'):\n",
    "    x = tf.placeholder(tf.float32, shape=(None, input_size))\n",
    "    y_train = tf.placeholder(tf.int32, shape=(batch_size))\n",
    "\n",
    "    # Conv weights\n",
    "    W_conv1 = weight_var([5, 5, 1, 32])\n",
    "    b1 = bias_var([32])\n",
    "                \n",
    "#     W_conv2 =  weight_var([5, 5, 32, 64])\n",
    "#     b2 = bias_var([64])\n",
    "    \n",
    "    # Conv layers\n",
    "    x_image = tf.reshape(x, [-1, 28, 28, 1])\n",
    "    h_conv1 = tf.nn.relu(conv2d(x_image, W_conv1) + b1) # (28x28x32)\n",
    "    h_pool1 = max_pool_2x2(h_conv1) # (14x14x32)\n",
    "    \n",
    "    h_pool1_size = 14*14*32\n",
    "    h_pool1_flat = tf.reshape(h_pool1, [-1, h_pool1_size])\n",
    "        \n",
    "#     h_conv2 = tf.nn.relu(conv2d(h_pool1, W_conv2) + b2) # (14x14x64)\n",
    "#     h_pool2 = max_pool_2x2(h_conv2) # (7x7x64)\n",
    "    \n",
    "#     h_pool2_size = 7*7*64\n",
    "#     h_pool2_flat = tf.reshape(h_pool2, [-1, h_pool2_size])\n",
    "    \n",
    "    \n",
    "    # FC weights\n",
    "    W3 = weight_var([h_pool1_size, 1024])\n",
    "    b3 = bias_var([1024])\n",
    "\n",
    "    W4 = weight_var([1024, output_size])\n",
    "    b4 = bias_var([output_size])\n",
    "    \n",
    "    # FC layers    \n",
    "    h_fc = tf.nn.relu(tf.matmul(h_pool1_flat, W3) + b3)    \n",
    "    logits = tf.matmul(h_fc, W4) + b4\n",
    "\n",
    "    cross_entropy = tf.nn.sparse_softmax_cross_entropy_with_logits(labels=y_train, logits=logits)\n",
    "    loss = tf.reduce_mean(cross_entropy)\n",
    "    \n",
    "    # Optimizers\n",
    "    optimizer = tf.train.AdamOptimizer(learning_rate=0.01)\n",
    "    # global_step = tf.Variable(0, trainable=False, name=\"global_step\")\n",
    "    # train_op = optimizer.minimize(loss, global_step=global_step)\n",
    "    train_op = optimizer.minimize(loss)\n",
    "\n",
    "    \n",
    "sess = tf.InteractiveSession()"
   ]
  },
  {
   "cell_type": "code",
   "execution_count": null,
   "metadata": {
    "scrolled": true
   },
   "outputs": [
    {
     "name": "stdout",
     "output_type": "stream",
     "text": [
      "\n",
      "Iteration: 0 loss: 8.85466\n",
      "89 correct out of 1000 => accuracy: 0.089\n",
      "\n",
      "Iteration: 200 loss: 0.0588086\n",
      "942 correct out of 1000 => accuracy: 0.942\n",
      "\n",
      "Iteration: 400 loss: 0.0988271\n",
      "969 correct out of 1000 => accuracy: 0.969\n",
      "\n",
      "Iteration: 600 loss: 0.0289384\n",
      "968 correct out of 1000 => accuracy: 0.968\n",
      "\n",
      "Iteration: 800 loss: 0.0320229\n",
      "979 correct out of 1000 => accuracy: 0.979\n",
      "\n",
      "Iteration: 1000 loss: 0.0912608\n",
      "967 correct out of 1000 => accuracy: 0.967\n"
     ]
    }
   ],
   "source": [
    "report = {\n",
    "    'loss': [],\n",
    "    'val_acc': [],\n",
    "}\n",
    "\n",
    "def sample(images, labels, n=50):\n",
    "    sample_indices = random.sample(range(len(images)), n)\n",
    "    return images[sample_indices], labels[sample_indices]\n",
    "\n",
    "n_epochs = 20\n",
    "\n",
    "# Clear out the session\n",
    "sess.run(tf.global_variables_initializer())\n",
    "for i in range(n_epochs*1000+1):\n",
    "    # Train with a minibatch\n",
    "\n",
    "    train_ims, train_labels = sample(images, labels)\n",
    "    _, l = sess.run([train_op, loss], feed_dict={\n",
    "        x: train_ims,\n",
    "        y_train: train_labels,\n",
    "    })\n",
    "\n",
    "    if i % 50 == 0:\n",
    "        report['loss'].append(l)\n",
    "        acc, acc_msg = check_accuracy(*sample(val_images, val_labels, 1000))\n",
    "\n",
    "        report['val_acc'].append(acc)\n",
    "        \n",
    "        \n",
    "    if i % 200 == 0:\n",
    "        print(\"\\nIteration: %s loss: %s\" % (i, l))\n",
    "        print(acc_msg)"
   ]
  },
  {
   "cell_type": "code",
   "execution_count": 12,
   "metadata": {
    "scrolled": false
   },
   "outputs": [
    {
     "data": {
      "image/png": "[encoded data removed]",
      "text/plain": [
       "<matplotlib.figure.Figure at 0x7f4c84c24cc0>"
      ]
     },
     "metadata": {},
     "output_type": "display_data"
    },
    {
     "data": {
      "image/png": "[encoded data removed]",
      "text/plain": [
       "<matplotlib.figure.Figure at 0x7f4c84bf52b0>"
      ]
     },
     "metadata": {},
     "output_type": "display_data"
    },
    {
     "name": "stdout",
     "output_type": "stream",
     "text": [
      "final validation acc 0.9536\n"
     ]
    },
    {
     "data": {
      "text/plain": [
       "(0.95309999999999995, '9531 correct out of 10000 => accuracy: 0.9531')"
      ]
     },
     "execution_count": 12,
     "metadata": {},
     "output_type": "execute_result"
    }
   ],
   "source": [
    "plt.plot(np.log(report['loss']))\n",
    "plt.show()\n",
    "\n",
    "plt.plot(report['val_acc'][20:])\n",
    "plt.show()\n",
    "\n",
    "\n",
    "print(\"final validation acc\", np.mean(report['val_acc'][-10:]))\n",
    "\n",
    "check_accuracy(test_images, test_labels)"
   ]
  },
  {
   "cell_type": "code",
   "execution_count": null,
   "metadata": {
    "collapsed": true,
    "scrolled": true
   },
   "outputs": [],
   "source": []
  },
  {
   "cell_type": "code",
   "execution_count": null,
   "metadata": {
    "collapsed": true
   },
   "outputs": [],
   "source": []
  },
  {
   "cell_type": "code",
   "execution_count": null,
   "metadata": {
    "collapsed": true
   },
   "outputs": [],
   "source": []
  },
  {
   "cell_type": "code",
   "execution_count": null,
   "metadata": {
    "collapsed": true
   },
   "outputs": [],
   "source": []
  },
  {
   "cell_type": "code",
   "execution_count": null,
   "metadata": {
    "collapsed": true
   },
   "outputs": [],
   "source": []
  },
  {
   "cell_type": "code",
   "execution_count": null,
   "metadata": {
    "collapsed": true
   },
   "outputs": [],
   "source": []
  },
  {
   "cell_type": "code",
   "execution_count": null,
   "metadata": {
    "collapsed": true
   },
   "outputs": [],
   "source": []
  }
 ],
 "metadata": {
  "kernelspec": {
   "display_name": "Python 3",
   "language": "python",
   "name": "python3"
  },
  "language_info": {
   "codemirror_mode": {
    "name": "ipython",
    "version": 3
   },
   "file_extension": ".py",
   "mimetype": "text/x-python",
   "name": "python",
   "nbconvert_exporter": "python",
   "pygments_lexer": "ipython3",
   "version": "3.5.2"
  }
 },
 "nbformat": 4,
 "nbformat_minor": 2
}
